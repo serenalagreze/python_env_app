{
 "cells": [
  {
   "cell_type": "markdown",
   "id": "c0fea1cf-230b-4305-8caa-4854e6e9fae1",
   "metadata": {},
   "source": [
    "# Aula 02\n"
   ]
  },
  {
   "cell_type": "code",
   "execution_count": null,
   "id": "dc17d4c5-e5b9-48a8-8cc2-fa8fb28b632d",
   "metadata": {},
   "outputs": [],
   "source": [
    "# Aula 02\n",
    "\n",
    "Nesta aula utilizaremos alguns comandos básicos em python:\n",
    "\n",
    "- Tipos de variáveis = int, float, bool, str, NaN\n",
    "- type\n",
    "- conversão entre variáveis\n",
    "- Listas e indexação  "
   ]
  },
  {
   "cell_type": "markdown",
   "id": "d49bf7a0-0c29-4fcb-a4f5-e3e5b8cf768a",
   "metadata": {},
   "source": [
    "# Tipos de variáveis"
   ]
  },
  {
   "cell_type": "code",
   "execution_count": 26,
   "id": "f852cbc1-7423-4e07-b1a2-b9d33cf043f8",
   "metadata": {},
   "outputs": [
    {
     "name": "stdout",
     "output_type": "stream",
     "text": [
      "1\n"
     ]
    }
   ],
   "source": [
    "# variável inteira - int\n",
    "\n",
    "a = 1\n",
    "\n",
    "# Para exibir o resultado em tela, utilize o comando print assim\n",
    "print(a)\n"
   ]
  },
  {
   "cell_type": "code",
   "execution_count": 2,
   "id": "7acc2cd6-be55-471c-ba4d-5033d72a250e",
   "metadata": {},
   "outputs": [
    {
     "data": {
      "text/plain": [
       "int"
      ]
     },
     "execution_count": 2,
     "metadata": {},
     "output_type": "execute_result"
    }
   ],
   "source": [
    "# Para verificar o tipo de variável, utilize o comando type assim:\n",
    "type(a)"
   ]
  },
  {
   "cell_type": "markdown",
   "id": "676aa38f-0759-4f0d-95bb-2f2286e83a92",
   "metadata": {},
   "source": [
    "## Variável float - dupla precisão ou número real"
   ]
  },
  {
   "cell_type": "code",
   "execution_count": 8,
   "id": "e586369f-aaf6-44dc-a1f6-27de6b26ba27",
   "metadata": {
    "scrolled": true
   },
   "outputs": [
    {
     "name": "stdout",
     "output_type": "stream",
     "text": [
      "1.0\n",
      "<class 'float'>\n"
     ]
    }
   ],
   "source": [
    "# variável float\n",
    "\n",
    "b = 1.0\n",
    "print(b)\n",
    "print(type(b))\n"
   ]
  },
  {
   "cell_type": "code",
   "execution_count": 9,
   "id": "bfedadec-4052-475e-b1f5-cb75242c4aaa",
   "metadata": {},
   "outputs": [
    {
     "name": "stdout",
     "output_type": "stream",
     "text": [
      "1.0\n"
     ]
    }
   ],
   "source": [
    "# conversão de int para float\n",
    "c = float(a)\n",
    "print(c)"
   ]
  },
  {
   "cell_type": "markdown",
   "id": "bfe8dd32-fc34-4091-a997-dda54f1c9843",
   "metadata": {},
   "source": [
    "## Variável string - str - TEXTO"
   ]
  },
  {
   "cell_type": "code",
   "execution_count": 11,
   "id": "74e778fb-7092-458b-8dd8-a858bfdfc4a9",
   "metadata": {},
   "outputs": [
    {
     "name": "stdout",
     "output_type": "stream",
     "text": [
      "júlia\n",
      "<class 'str'>\n"
     ]
    }
   ],
   "source": [
    "# variável string\n",
    "e = 'júlia'\n",
    "print(e)\n",
    "print(type(e))"
   ]
  },
  {
   "cell_type": "code",
   "execution_count": 16,
   "id": "975300de-c3ce-4c43-96a5-43f2f941d7cd",
   "metadata": {},
   "outputs": [
    {
     "name": "stdout",
     "output_type": "stream",
     "text": [
      "o valor de f é: 1.0e o valor de g é: 1.0\n"
     ]
    }
   ],
   "source": [
    "# converter um inteiro e um float para string\n",
    "f = str(c)\n",
    "g = str(b)\n",
    "print('o valor de f é: ' + f + 'e o valor de g é: ' + g)"
   ]
  },
  {
   "cell_type": "markdown",
   "id": "707fd8ba-0c0e-4348-a4a8-022cb36ee8ee",
   "metadata": {},
   "source": [
    "## Variável boleana"
   ]
  },
  {
   "cell_type": "code",
   "execution_count": 14,
   "id": "06795b39-472a-4aa5-b814-6f45bc40d7f3",
   "metadata": {},
   "outputs": [
    {
     "name": "stdout",
     "output_type": "stream",
     "text": [
      "False\n",
      "<class 'bool'>\n"
     ]
    }
   ],
   "source": [
    "# comparação entre valores - usar ==\n",
    "h = (f == g)\n",
    "print(h)\n",
    "print (type(h))\n"
   ]
  },
  {
   "cell_type": "code",
   "execution_count": 15,
   "id": "e561e49c-34fe-4d09-bd09-7c3524afd12d",
   "metadata": {},
   "outputs": [
    {
     "name": "stdout",
     "output_type": "stream",
     "text": [
      "True\n",
      "<class 'bool'>\n"
     ]
    }
   ],
   "source": [
    "# para comparar se as variáveis são diferentes de !=\n",
    "i = (f != g)\n",
    "print(i)\n",
    "print(type(i))"
   ]
  },
  {
   "cell_type": "code",
   "execution_count": 17,
   "id": "70d3e7e6-9691-45d6-a210-c1cf1e7f683f",
   "metadata": {},
   "outputs": [
    {
     "name": "stdout",
     "output_type": "stream",
     "text": [
      "True\n",
      "<class 'str'>\n"
     ]
    }
   ],
   "source": [
    "# para converter em string...\n",
    "print(str(i))\n",
    "print(type(str(i)))\n"
   ]
  },
  {
   "cell_type": "markdown",
   "id": "00461b9d-8841-41f0-8dac-120ba0753c2b",
   "metadata": {},
   "source": [
    "# Operações matemáticas"
   ]
  },
  {
   "cell_type": "code",
   "execution_count": 19,
   "id": "8b4f4794-8d3b-4df6-8d3b-1a01b816b669",
   "metadata": {},
   "outputs": [
    {
     "name": "stdout",
     "output_type": "stream",
     "text": [
      "61.0\n"
     ]
    }
   ],
   "source": [
    "# multiplicação *\n",
    "\n",
    "j = 2*30.5\n",
    "print(j)"
   ]
  },
  {
   "cell_type": "code",
   "execution_count": 20,
   "id": "f07b67e2-8b42-4103-af3c-c9e90f6c47e3",
   "metadata": {},
   "outputs": [
    {
     "name": "stdout",
     "output_type": "stream",
     "text": [
      "1.6666666666666667\n"
     ]
    }
   ],
   "source": [
    "# divisão /\n",
    "l = 10/6\n",
    "print(l)"
   ]
  },
  {
   "cell_type": "code",
   "execution_count": 21,
   "id": "556fe465-50a1-471b-a447-d7b41d321ba6",
   "metadata": {},
   "outputs": [
    {
     "name": "stdout",
     "output_type": "stream",
     "text": [
      "49.8\n"
     ]
    }
   ],
   "source": [
    "# soma e subtração\n",
    "print(2 + 50 -2.2)\n"
   ]
  },
  {
   "cell_type": "code",
   "execution_count": 25,
   "id": "759f919f-5125-4634-a43a-c2d50bde541d",
   "metadata": {},
   "outputs": [
    {
     "name": "stdout",
     "output_type": "stream",
     "text": [
      "5.0\n"
     ]
    }
   ],
   "source": [
    "#potência **\n",
    "m = 25**(1/2)\n",
    "print(m)"
   ]
  },
  {
   "cell_type": "markdown",
   "id": "a7a45827-f50c-4693-a4a1-7c8c6ac3e7b7",
   "metadata": {},
   "source": [
    "## LISTAS"
   ]
  },
  {
   "cell_type": "code",
   "execution_count": 27,
   "id": "8fa7c916-d1d0-445b-8232-ea3f8b87060f",
   "metadata": {},
   "outputs": [
    {
     "name": "stdout",
     "output_type": "stream",
     "text": [
      "['igor', 'larissa', 'leonardo']\n",
      "<class 'list'>\n"
     ]
    }
   ],
   "source": [
    "# primeira lista\n",
    "\n",
    "lista_a = ['igor', 'larissa', 'leonardo']\n",
    "print(lista_a)\n",
    "print(type(lista_a))\n"
   ]
  },
  {
   "cell_type": "code",
   "execution_count": 28,
   "id": "4db16201-cdb6-4bc6-908a-ab9c9600e308",
   "metadata": {},
   "outputs": [
    {
     "name": "stdout",
     "output_type": "stream",
     "text": [
      "['josé', 7, 6.5]\n",
      "<class 'list'>\n"
     ]
    }
   ],
   "source": [
    "lista_b = ['josé', 7, 6.5]\n",
    "print(lista_b)\n",
    "print(type(lista_b))\n"
   ]
  },
  {
   "cell_type": "code",
   "execution_count": 30,
   "id": "a4fe354d-114d-4b8b-9cb3-90e68040b793",
   "metadata": {},
   "outputs": [
    {
     "name": "stdout",
     "output_type": "stream",
     "text": [
      "josé\n",
      "josé tem 7 meses e 6.5 kg \n"
     ]
    }
   ],
   "source": [
    "# indexação\n",
    "\n",
    "# primeiro valor da lista_b\n",
    "print(lista_b[0])\n",
    "\n",
    "# utilizando lista, conversão de variáveis e contentação de strings\n",
    "print(lista_b[0] + ' tem ' + str(lista_b[1]) + ' meses e ' + str(lista_b[2]) + ' kg ')\n"
   ]
  },
  {
   "cell_type": "code",
   "execution_count": 32,
   "id": "5dd79514-1270-4043-a092-2beebc8c894e",
   "metadata": {},
   "outputs": [
    {
     "name": "stdout",
     "output_type": "stream",
     "text": [
      "<class 'str'>\n"
     ]
    }
   ],
   "source": [
    "print(type(lista_b[0]))\n",
    "      "
   ]
  },
  {
   "cell_type": "code",
   "execution_count": 33,
   "id": "2b3813d8-2e27-46d8-bcce-a90ed8b7bc3c",
   "metadata": {},
   "outputs": [
    {
     "name": "stdout",
     "output_type": "stream",
     "text": [
      "<class 'int'>\n"
     ]
    }
   ],
   "source": [
    "print(type(lista_b[1]))\n"
   ]
  },
  {
   "cell_type": "code",
   "execution_count": 34,
   "id": "cb1acedd-874e-4a0c-ac48-e215196f3e2e",
   "metadata": {},
   "outputs": [
    {
     "name": "stdout",
     "output_type": "stream",
     "text": [
      "[0, 1, 2, 3, 4, 5, 6, 7, 8, 9, 10, 11, 12, 13, 14, 15, 16, 17, 18, 19, 20, 21, 22, 23, 24, 25, 26, 27, 28, 29, 30, 31, 32, 33, 34, 35, 36, 37, 38, 39, 40, 41, 42, 43, 44, 45, 46, 47, 48, 49, 50, 51, 52, 53, 54, 55, 56, 57, 58, 59, 60, 61, 62, 63, 64, 65, 66, 67, 68, 69, 70, 71, 72, 73, 74, 75, 76, 77, 78, 79, 80, 81, 82, 83, 84, 85, 86, 87, 88, 89, 90, 91, 92, 93, 94, 95, 96, 97, 98, 99]\n"
     ]
    }
   ],
   "source": [
    "# criando uma lista de valores consecutivos\n",
    "\n",
    "\n",
    "lista_consecutivos = list(range(0,100))\n",
    "print(lista_consecutivos)\n"
   ]
  },
  {
   "cell_type": "code",
   "execution_count": 41,
   "id": "c170bf37-23f6-4bfb-9d52-c96ccb341143",
   "metadata": {},
   "outputs": [
    {
     "name": "stdout",
     "output_type": "stream",
     "text": [
      "0\n",
      "99\n",
      "99\n"
     ]
    }
   ],
   "source": [
    "# primeiro valor\n",
    "print(lista_consecutivos[0])\n",
    "\n",
    "#ultimo valor\n",
    "print(lista_consecutivos[99])\n",
    "print(lista_consecutivos[-1])"
   ]
  },
  {
   "cell_type": "code",
   "execution_count": 42,
   "id": "7a1f1eff-08f0-4814-9480-b4fa57f862f7",
   "metadata": {},
   "outputs": [
    {
     "name": "stdout",
     "output_type": "stream",
     "text": [
      "100\n"
     ]
    }
   ],
   "source": [
    "# comprimento da lista\n",
    "comprimento = len (lista_consecutivos)\n",
    "print(comprimento)"
   ]
  },
  {
   "cell_type": "code",
   "execution_count": 47,
   "id": "5c9f6e68-73ec-49a1-85f6-55842913c9a7",
   "metadata": {},
   "outputs": [
    {
     "name": "stdout",
     "output_type": "stream",
     "text": [
      "12.5\n",
      "12\n"
     ]
    }
   ],
   "source": [
    "# o valor no meio da séria\n",
    "metade = comprimento/8\n",
    "print(metade)\n",
    "print(lista_consecutivos[int(metade)])\n"
   ]
  },
  {
   "cell_type": "markdown",
   "id": "1abbd66b-2bee-4cec-a93a-ea9fbe2e4f88",
   "metadata": {},
   "source": [
    "# Dicionário"
   ]
  },
  {
   "cell_type": "code",
   "execution_count": 53,
   "id": "fc85a372-3f16-4451-9ff7-2836f54b16ed",
   "metadata": {},
   "outputs": [
    {
     "name": "stdout",
     "output_type": "stream",
     "text": [
      "{'a': 1, 'b': 'josé', 'c': 'yasmim'}\n"
     ]
    }
   ],
   "source": [
    "# primeiro dicionário\n",
    "dicionario = {'a':1,'b':'josé','c':'yasmim'}\n",
    "print(dicionario)\n"
   ]
  },
  {
   "cell_type": "code",
   "execution_count": 54,
   "id": "01368058-46e9-40e8-8045-961c10115f97",
   "metadata": {},
   "outputs": [
    {
     "name": "stdout",
     "output_type": "stream",
     "text": [
      "1\n",
      "josé\n"
     ]
    }
   ],
   "source": [
    "# acessando valores do dicionário\n",
    "print(dicionario['a'])\n",
    "print(dicionario['b'])"
   ]
  },
  {
   "cell_type": "code",
   "execution_count": 55,
   "id": "d2195dda-4096-45b8-a30a-7a6767edfbcb",
   "metadata": {},
   "outputs": [
    {
     "data": {
      "text/plain": [
       "dict_keys(['a', 'b', 'c'])"
      ]
     },
     "execution_count": 55,
     "metadata": {},
     "output_type": "execute_result"
    }
   ],
   "source": [
    "dicionario.keys()"
   ]
  },
  {
   "cell_type": "code",
   "execution_count": 57,
   "id": "f6db8a2c-8c9f-4e7a-8335-fa0fc86f59c0",
   "metadata": {},
   "outputs": [
    {
     "data": {
      "text/plain": [
       "dict_values([1, 'josé', 'yasmim'])"
      ]
     },
     "execution_count": 57,
     "metadata": {},
     "output_type": "execute_result"
    }
   ],
   "source": [
    "dicionario.values()"
   ]
  },
  {
   "cell_type": "code",
   "execution_count": 58,
   "id": "5ba49616-827d-4240-8783-be7af9feebaf",
   "metadata": {},
   "outputs": [
    {
     "data": {
      "text/plain": [
       "dict_items([('a', 1), ('b', 'josé'), ('c', 'yasmim')])"
      ]
     },
     "execution_count": 58,
     "metadata": {},
     "output_type": "execute_result"
    }
   ],
   "source": [
    "dicionario.items()"
   ]
  },
  {
   "cell_type": "markdown",
   "id": "b55717b9-6f1b-4a61-9e17-dd7d651faa3b",
   "metadata": {},
   "source": [
    "# Loop"
   ]
  },
  {
   "cell_type": "code",
   "execution_count": 60,
   "id": "47a8ea62-4845-47ab-aafd-896f6d03ac4d",
   "metadata": {},
   "outputs": [
    {
     "name": "stdout",
     "output_type": "stream",
     "text": [
      "0\n",
      "1\n",
      "2\n",
      "3\n",
      "4\n",
      "5\n",
      "6\n",
      "7\n",
      "8\n",
      "9\n",
      "10\n",
      "11\n",
      "12\n",
      "13\n",
      "14\n",
      "15\n",
      "16\n",
      "17\n",
      "18\n",
      "19\n",
      "20\n",
      "21\n",
      "22\n",
      "23\n",
      "24\n",
      "25\n",
      "26\n",
      "27\n",
      "28\n",
      "29\n",
      "30\n",
      "31\n",
      "32\n",
      "33\n",
      "34\n",
      "35\n",
      "36\n",
      "37\n",
      "38\n",
      "39\n",
      "40\n",
      "41\n",
      "42\n",
      "43\n",
      "44\n",
      "45\n",
      "46\n",
      "47\n",
      "48\n",
      "49\n",
      "50\n",
      "51\n",
      "52\n",
      "53\n",
      "54\n",
      "55\n",
      "56\n",
      "57\n",
      "58\n",
      "59\n",
      "60\n",
      "61\n",
      "62\n",
      "63\n",
      "64\n",
      "65\n",
      "66\n",
      "67\n",
      "68\n",
      "69\n",
      "70\n",
      "71\n",
      "72\n",
      "73\n",
      "74\n",
      "75\n",
      "76\n",
      "77\n",
      "78\n",
      "79\n",
      "80\n",
      "81\n",
      "82\n",
      "83\n",
      "84\n",
      "85\n",
      "86\n",
      "87\n",
      "88\n",
      "89\n",
      "90\n",
      "91\n",
      "92\n",
      "93\n",
      "94\n",
      "95\n",
      "96\n",
      "97\n",
      "98\n",
      "99\n"
     ]
    }
   ],
   "source": [
    "# usando range\n",
    "for ii in range(0,100): print(ii)"
   ]
  },
  {
   "cell_type": "code",
   "execution_count": 61,
   "id": "0067df59-79a5-413d-bfdc-6a8d6161527e",
   "metadata": {},
   "outputs": [
    {
     "name": "stdout",
     "output_type": "stream",
     "text": [
      "igor\n",
      "larissa\n",
      "leonardo\n"
     ]
    }
   ],
   "source": [
    "#usando uma lista\n",
    "for ii in lista_a:\n",
    "    print(ii)"
   ]
  },
  {
   "cell_type": "code",
   "execution_count": 62,
   "id": "f0458bee-d0d9-4f7f-8dd0-e66a74627b1d",
   "metadata": {},
   "outputs": [
    {
     "name": "stdout",
     "output_type": "stream",
     "text": [
      "igor\n",
      "larissa\n",
      "leonardo\n"
     ]
    }
   ],
   "source": [
    "#usando uma lista e range\n",
    "for ii in range(0,len(lista_a)):\n",
    "    print(lista_a[ii])"
   ]
  },
  {
   "cell_type": "code",
   "execution_count": 73,
   "id": "ed3ee7f2-c03d-4754-8acb-9f239337da34",
   "metadata": {},
   "outputs": [
    {
     "ename": "IndentationError",
     "evalue": "expected an indented block after 'if' statement on line 9 (3967055551.py, line 10)",
     "output_type": "error",
     "traceback": [
      "  \u001b[36mCell\u001b[39m\u001b[36m \u001b[39m\u001b[32mIn[73]\u001b[39m\u001b[32m, line 10\u001b[39m\n\u001b[31m    \u001b[39m\u001b[31mprint(key + ' está aprovado(a) com notão')\u001b[39m\n    ^\n\u001b[31mIndentationError\u001b[39m\u001b[31m:\u001b[39m expected an indented block after 'if' statement on line 9\n"
     ]
    }
   ],
   "source": [
    "dic_2 = {'igor':10,\n",
    "         'marcos':9,\n",
    "         'julia':5.75,\n",
    "         'larissa':5.75,\n",
    "        'leonardo':5,\n",
    "        'leticia':8}\n",
    "for key,value in dic_2.items():\n",
    "    if (value>5.75):\n",
    "        if(value>8):\n",
    "        print(key + ' está aprovado(a) com notão')\n",
    "         else:\n",
    "        print(key + ' está aprovado(a)')\n",
    "    elif value== 5.75:\n",
    "        print(key + ' passou raspando')\n",
    "    else:\n",
    "        print(key + ' reprovado(a)')"
   ]
  },
  {
   "cell_type": "code",
   "execution_count": 74,
   "id": "b7fea3f9-4f44-4733-a777-3bbb9371119a",
   "metadata": {},
   "outputs": [
    {
     "name": "stdout",
     "output_type": "stream",
     "text": [
      "indice da lista = 0\n",
      "indice da lista = 1\n",
      "indice da lista = 2\n",
      "indice da lista = 3\n",
      "indice da lista = 4\n",
      "indice da lista = 5\n",
      "indice da lista = 6\n",
      "indice da lista = 7\n"
     ]
    }
   ],
   "source": [
    "# loop em uma lista e acumulando valores especificos\n",
    "\n",
    "lista_c = [100, 200, 10, 2, 1, 6, 22,27]\n",
    "for index, valor in enumerate(lista_c):\n",
    "    print('indice da lista = ' +str(index))"
   ]
  },
  {
   "cell_type": "code",
   "execution_count": 75,
   "id": "af492cc6-1920-4e26-b03a-9286bbf3245b",
   "metadata": {},
   "outputs": [
    {
     "ename": "SyntaxError",
     "evalue": "invalid syntax (1140521681.py, line 3)",
     "output_type": "error",
     "traceback": [
      "  \u001b[36mCell\u001b[39m\u001b[36m \u001b[39m\u001b[32mIn[75]\u001b[39m\u001b[32m, line 3\u001b[39m\n\u001b[31m    \u001b[39m\u001b[31mfor index\u001b[39m\n             ^\n\u001b[31mSyntaxError\u001b[39m\u001b[31m:\u001b[39m invalid syntax\n"
     ]
    }
   ],
   "source": [
    "# acumulando valores maiores que 50 \n",
    "lista_maior50 = []\n",
    "for index"
   ]
  },
  {
   "cell_type": "markdown",
   "id": "45c0c90f-6ea4-4063-9f7b-91f034bbcc9b",
   "metadata": {},
   "source": [
    "# Numpy"
   ]
  },
  {
   "cell_type": "code",
   "execution_count": 80,
   "id": "56cc5dfd-9ae8-4e84-adbf-005793a57fd3",
   "metadata": {},
   "outputs": [
    {
     "name": "stdout",
     "output_type": "stream",
     "text": [
      "[100 200  10   2   1   6  22  27]\n",
      "<class 'numpy.ndarray'>\n",
      "[ True  True False False False False False False]\n",
      "[100 200]\n"
     ]
    }
   ],
   "source": [
    "# usando logica e numpy\n",
    "\n",
    "# importando o numpy\n",
    "import numpy as np\n",
    "\n",
    "#convertendo para numpy\n",
    "arr = np.array(lista_c)\n",
    "\n",
    "print(arr)\n",
    "print(type(arr))\n",
    "\n",
    "# selecionando valores maiores que 50 - retorna um array booleano\n",
    "print(arr>50)\n",
    "\n",
    "#imprimir apenas valores maiores que 50\n",
    "print(arr[arr>50])"
   ]
  },
  {
   "cell_type": "code",
   "execution_count": 81,
   "id": "cc40f627-ee88-4234-b44a-3d446bb71836",
   "metadata": {},
   "outputs": [
    {
     "name": "stdout",
     "output_type": "stream",
     "text": [
      "100\n",
      "200\n",
      "10\n",
      "2\n",
      "1\n",
      "6\n",
      "22\n",
      "27\n"
     ]
    }
   ],
   "source": [
    "for ii in arr:\n",
    "    print(ii)"
   ]
  },
  {
   "cell_type": "markdown",
   "id": "3c88bbcb-5e84-4b62-a499-8447e4cdb96d",
   "metadata": {},
   "source": [
    "## numpay media, minimo, maxima, desvio padrao, percentil, mediana"
   ]
  },
  {
   "cell_type": "code",
   "execution_count": 82,
   "id": "c8d74dac-950d-49d5-ae56-776a2824224e",
   "metadata": {},
   "outputs": [
    {
     "name": "stdout",
     "output_type": "stream",
     "text": [
      "Media = 46.0\n"
     ]
    }
   ],
   "source": [
    "# numpay media, minimo, maxima, desvio padrao, percentil, mediana\n",
    "\n",
    "print('Media = ' + str(arr.mean()))"
   ]
  },
  {
   "cell_type": "code",
   "execution_count": 83,
   "id": "8f89223f-099c-4f98-acf5-5ce87400f601",
   "metadata": {},
   "outputs": [
    {
     "name": "stdout",
     "output_type": "stream",
     "text": [
      "Minimo = 1\n"
     ]
    }
   ],
   "source": [
    "# numpay media, minimo, maxima, desvio padrao, percentil, mediana\n",
    "\n",
    "print('Minimo = ' + str(arr.min()))"
   ]
  },
  {
   "cell_type": "code",
   "execution_count": 84,
   "id": "0311feb0-2ee2-401e-91c7-9c6899b07470",
   "metadata": {},
   "outputs": [
    {
     "name": "stdout",
     "output_type": "stream",
     "text": [
      "Maximo = 200\n"
     ]
    }
   ],
   "source": [
    "# numpay media, minimo, maxima, desvio padrao, percentil, mediana\n",
    "\n",
    "print('Maximo = ' + str(arr.max()))"
   ]
  },
  {
   "cell_type": "code",
   "execution_count": 85,
   "id": "5135e809-816f-4487-ad5e-2459cb078e55",
   "metadata": {},
   "outputs": [
    {
     "name": "stdout",
     "output_type": "stream",
     "text": [
      "Desvio = 65.59916158000802\n"
     ]
    }
   ],
   "source": [
    "# numpay media, minimo, maxima, desvio padrao, percentil, mediana\n",
    "\n",
    "print('Desvio = ' + str(arr.std()))"
   ]
  },
  {
   "cell_type": "code",
   "execution_count": 87,
   "id": "0673395b-aa42-461c-815d-53a4b0a7a670",
   "metadata": {},
   "outputs": [
    {
     "name": "stdout",
     "output_type": "stream",
     "text": [
      "Percentil 90 = 129.99999999999997\n"
     ]
    }
   ],
   "source": [
    "# numpay media, minimo, maxima, desvio padrao, percentil, mediana\n",
    "\n",
    "print('Percentil 90 = ' + str(np.percentile(arr,90)))"
   ]
  },
  {
   "cell_type": "code",
   "execution_count": 88,
   "id": "eeb2589f-af97-45e7-93c3-c8eaebebce7a",
   "metadata": {},
   "outputs": [
    {
     "name": "stdout",
     "output_type": "stream",
     "text": [
      "Percentil 50 = 16.0\n"
     ]
    }
   ],
   "source": [
    "# numpay media, minimo, maxima, desvio padrao, percentil, mediana\n",
    "\n",
    "print('Percentil 50 = ' + str(np.percentile(arr,50)))"
   ]
  },
  {
   "cell_type": "code",
   "execution_count": 89,
   "id": "327e31b6-f2f2-41c4-89dd-b5a0f5529ba7",
   "metadata": {},
   "outputs": [
    {
     "name": "stdout",
     "output_type": "stream",
     "text": [
      "Mediana = 16.0\n"
     ]
    }
   ],
   "source": [
    "# numpay media, minimo, maxima, desvio padrao, percentil, mediana\n",
    "\n",
    "print('Mediana = ' + str(np.median(arr)))"
   ]
  },
  {
   "cell_type": "code",
   "execution_count": null,
   "id": "4976be12-fca2-4da1-90cc-d8be1a00694f",
   "metadata": {},
   "outputs": [],
   "source": [
    "#array de numero aleatorios\n",
    "\n",
    "val_min = 80\n",
    "val_max = 600\n",
    "\n",
    "array_temperatura_aleatoria = (val"
   ]
  },
  {
   "cell_type": "code",
   "execution_count": 90,
   "id": "44420e07-a82e-48db-a22b-f7773ae0325a",
   "metadata": {},
   "outputs": [
    {
     "ename": "NameError",
     "evalue": "name 'array_temperatura_aleatoria' is not defined",
     "output_type": "error",
     "traceback": [
      "\u001b[31m---------------------------------------------------------------------------\u001b[39m",
      "\u001b[31mNameError\u001b[39m                                 Traceback (most recent call last)",
      "\u001b[36mCell\u001b[39m\u001b[36m \u001b[39m\u001b[32mIn[90]\u001b[39m\u001b[32m, line 3\u001b[39m\n\u001b[32m      1\u001b[39m \u001b[38;5;66;03m# cinética\u001b[39;00m\n\u001b[32m----> \u001b[39m\u001b[32m3\u001b[39m fx = \u001b[32m200\u001b[39m*np.exp(\u001b[43marray_temperatura_aleatoria\u001b[49m) + array_temperatura_aleatória**(-\u001b[32m0.2\u001b[39m)\n\u001b[32m      4\u001b[39m \u001b[38;5;28mprint\u001b[39m(fx)\n",
      "\u001b[31mNameError\u001b[39m: name 'array_temperatura_aleatoria' is not defined"
     ]
    }
   ],
   "source": [
    "# cinética\n",
    "\n",
    "fx = 200*np.exp(array_temperatura_aleatoria) + array_temperatura_aleatória**(-0.2)\n",
    "print(fx)\n"
   ]
  },
  {
   "cell_type": "markdown",
   "id": "ba041a1d-3797-4901-8098-cd87389e3e6f",
   "metadata": {},
   "source": [
    "## Figuras - MATPLOTLIB"
   ]
  },
  {
   "cell_type": "code",
   "execution_count": 92,
   "id": "b49197b0-da59-4234-b55d-b13162185100",
   "metadata": {
    "scrolled": true
   },
   "outputs": [
    {
     "ename": "ModuleNotFoundError",
     "evalue": "No module named 'matplotlib'",
     "output_type": "error",
     "traceback": [
      "\u001b[31m---------------------------------------------------------------------------\u001b[39m",
      "\u001b[31mModuleNotFoundError\u001b[39m                       Traceback (most recent call last)",
      "\u001b[36mCell\u001b[39m\u001b[36m \u001b[39m\u001b[32mIn[92]\u001b[39m\u001b[32m, line 2\u001b[39m\n\u001b[32m      1\u001b[39m \u001b[38;5;66;03m# importando pacote\u001b[39;00m\n\u001b[32m----> \u001b[39m\u001b[32m2\u001b[39m \u001b[38;5;28;01mimport\u001b[39;00m\u001b[38;5;250m \u001b[39m\u001b[34;01mmatplotlib\u001b[39;00m\u001b[34;01m.\u001b[39;00m\u001b[34;01mpyplot\u001b[39;00m\u001b[38;5;250m \u001b[39m\u001b[38;5;28;01mas\u001b[39;00m\u001b[38;5;250m \u001b[39m\u001b[34;01mplt\u001b[39;00m\n",
      "\u001b[31mModuleNotFoundError\u001b[39m: No module named 'matplotlib'"
     ]
    }
   ],
   "source": [
    "# importando pacote\n",
    "\n",
    "import matplotlib.pyplot as plt"
   ]
  },
  {
   "cell_type": "code",
   "execution_count": 91,
   "id": "7c52b389-fc13-4b58-8bc0-e41ba9acbc75",
   "metadata": {},
   "outputs": [
    {
     "ename": "ModuleNotFoundError",
     "evalue": "No module named 'matplotlib'",
     "output_type": "error",
     "traceback": [
      "\u001b[31m---------------------------------------------------------------------------\u001b[39m",
      "\u001b[31mModuleNotFoundError\u001b[39m                       Traceback (most recent call last)",
      "\u001b[36mCell\u001b[39m\u001b[36m \u001b[39m\u001b[32mIn[91]\u001b[39m\u001b[32m, line 2\u001b[39m\n\u001b[32m      1\u001b[39m \u001b[38;5;66;03m# importando pacote\u001b[39;00m\n\u001b[32m----> \u001b[39m\u001b[32m2\u001b[39m \u001b[38;5;28;01mimport\u001b[39;00m\u001b[38;5;250m \u001b[39m\u001b[34;01mmatplotlib\u001b[39;00m\u001b[34;01m.\u001b[39;00m\u001b[34;01mpyplot\u001b[39;00m\u001b[38;5;250m \u001b[39m\u001b[38;5;28;01mas\u001b[39;00m\u001b[38;5;250m \u001b[39m\u001b[34;01mplt\u001b[39;00m\n\u001b[32m      4\u001b[39m fig,ax = plt.subplots()\n\u001b[32m      5\u001b[39m ax.plot(fx)\n",
      "\u001b[31mModuleNotFoundError\u001b[39m: No module named 'matplotlib'"
     ]
    }
   ],
   "source": [
    "fig,ax = plt.subplots()\n",
    "ax.plot(fx)"
   ]
  },
  {
   "cell_type": "code",
   "execution_count": null,
   "id": "b6228f45-1a16-4875-bf0d-3fa4afc35602",
   "metadata": {},
   "outputs": [],
   "source": []
  }
 ],
 "metadata": {
  "kernelspec": {
   "display_name": "Python 3 (ipykernel)",
   "language": "python",
   "name": "python3"
  },
  "language_info": {
   "codemirror_mode": {
    "name": "ipython",
    "version": 3
   },
   "file_extension": ".py",
   "mimetype": "text/x-python",
   "name": "python",
   "nbconvert_exporter": "python",
   "pygments_lexer": "ipython3",
   "version": "3.13.7"
  }
 },
 "nbformat": 4,
 "nbformat_minor": 5
}
