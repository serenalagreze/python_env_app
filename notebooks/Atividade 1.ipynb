{
 "cells": [
  {
   "cell_type": "code",
   "execution_count": 13,
   "id": "bf65354e-4a9c-450f-92e8-6fee7fa21f87",
   "metadata": {},
   "outputs": [],
   "source": [
    "import numpy as np"
   ]
  },
  {
   "cell_type": "code",
   "execution_count": 14,
   "id": "916d29c8-aff7-498c-93ce-4db97a1dbb39",
   "metadata": {},
   "outputs": [
    {
     "name": "stderr",
     "output_type": "stream",
     "text": [
      "Matplotlib is building the font cache; this may take a moment.\n"
     ]
    }
   ],
   "source": [
    "import matplotlib.pyplot as plt"
   ]
  },
  {
   "cell_type": "code",
   "execution_count": 23,
   "id": "ad092e8a-7833-401f-bbcc-12a6db1d41f4",
   "metadata": {},
   "outputs": [
    {
     "name": "stdout",
     "output_type": "stream",
     "text": [
      "[ 1  2  3  4  5  6  7  8  9 10]\n"
     ]
    }
   ],
   "source": [
    "# TESTE NUMPY\n",
    "dados=[1,2,3,4,5,6,7,8,9,10]\n",
    "n = np.array(dados)\n",
    "print(n)"
   ]
  },
  {
   "cell_type": "markdown",
   "id": "24cd5c47-6053-4b7f-9743-248f95f11a71",
   "metadata": {},
   "source": [
    "# Solução de um sistema de equações"
   ]
  },
  {
   "cell_type": "markdown",
   "id": "fd247aa4-8fdb-4416-a3b2-ad9012ea702e",
   "metadata": {},
   "source": [
    "### SISTEMA DE EQUAÇÕES : 4X+5Y=2 e -7X+Y=1"
   ]
  },
  {
   "cell_type": "code",
   "execution_count": 19,
   "id": "8722a4cf-8100-471c-a530-49387a69d2e1",
   "metadata": {},
   "outputs": [],
   "source": [
    "A1 = np.array([[4,5],[-7,1]])\n",
    "B1 = np.array([2,1])"
   ]
  },
  {
   "cell_type": "code",
   "execution_count": 20,
   "id": "09071975-a0c2-49b0-9310-8a369d53f321",
   "metadata": {},
   "outputs": [],
   "source": [
    "solucao1 = np.linalg.solve(A1, B1)"
   ]
  },
  {
   "cell_type": "code",
   "execution_count": 21,
   "id": "7f78a907-622c-4a8f-8a81-a9b46ced3ffc",
   "metadata": {},
   "outputs": [],
   "source": [
    "X1 = solucao1[0]\n",
    "Y1 = solucao1[1]"
   ]
  },
  {
   "cell_type": "code",
   "execution_count": 22,
   "id": "adbb22e5-4820-4357-a8d5-3fa2beabac99",
   "metadata": {},
   "outputs": [
    {
     "name": "stdout",
     "output_type": "stream",
     "text": [
      "X1 =  -0.07692307692307694\n",
      "Y1 =  0.4615384615384615\n"
     ]
    }
   ],
   "source": [
    "print(\"X1 = \", X1)\n",
    "print(\"Y1 = \", Y1)"
   ]
  },
  {
   "cell_type": "code",
   "execution_count": null,
   "id": "a43a6dff-ebdc-4196-b4d4-4c0a9ac60b7f",
   "metadata": {},
   "outputs": [],
   "source": []
  }
 ],
 "metadata": {
  "kernelspec": {
   "display_name": "Python 3 (ipykernel)",
   "language": "python",
   "name": "python3"
  },
  "language_info": {
   "codemirror_mode": {
    "name": "ipython",
    "version": 3
   },
   "file_extension": ".py",
   "mimetype": "text/x-python",
   "name": "python",
   "nbconvert_exporter": "python",
   "pygments_lexer": "ipython3",
   "version": "3.13.7"
  }
 },
 "nbformat": 4,
 "nbformat_minor": 5
}
