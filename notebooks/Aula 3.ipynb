{
 "cells": [
  {
   "cell_type": "markdown",
   "id": "754b5e43-c9e3-447b-a74f-16e6d655604b",
   "metadata": {},
   "source": [
    "# Aula 3\n",
    "\n",
    "Nesta aula praticaremos a linguagem utilizando os pacotes Numpy e Pandas.\n",
    "Aprenderemos também como utilizar o pacote \"os\" para explorar diretórios e arquivos."
   ]
  },
  {
   "cell_type": "markdown",
   "id": "abb02411-d40c-4644-b171-0c996c623197",
   "metadata": {},
   "source": [
    "## Numpy\n",
    "Feito para operações matriciais."
   ]
  },
  {
   "cell_type": "code",
   "execution_count": 10,
   "id": "403e5e76-ebc0-40c6-bd01-4fcd8bee880b",
   "metadata": {},
   "outputs": [],
   "source": [
    "# Importação do pacote Numpy\n",
    "import numpy as np\n",
    "\n",
    "# ----------------- Geração de números aleatórios---------------------\n",
    "\n",
    "# Valores máximos e mínimos \n",
    "val_max, val_min = 10, 0.5\n",
    "\n",
    "# Números de valores aleatórios\n",
    "n = 1000\n",
    "\n",
    "# Utilizando pacote numpy e função uniform que está dentro do subpacote random\n",
    "arr_aleatorio_real = np.random.uniform(val_min, val_max, n)\n",
    "\n",
    "# print(arr_aleatorio_real)\n",
    "\n",
    "# Utilizando pacote numpy e função randint que está dentro do subpacote random\n",
    "arr_aleatorio_inteiro = np.random.randint(val_min, val_max, n)\n",
    "\n",
    "# print(arr_aleatorio_inteiro)"
   ]
  },
  {
   "cell_type": "code",
   "execution_count": 11,
   "id": "19f3c220-2c75-4a41-8ade-415ae06bfa68",
   "metadata": {},
   "outputs": [
    {
     "name": "stdout",
     "output_type": "stream",
     "text": [
      "(1000,)\n",
      "(1000,)\n",
      "1000\n",
      "(2, 500)\n",
      "1000\n"
     ]
    }
   ],
   "source": [
    "# verificando o tamanho da matriz aee_aleatorio_real\n",
    "# shape\n",
    "print(arr_aleatorio_real.shape)\n",
    "print(np.shape(arr_aleatorio_real))\n",
    "\n",
    "#size\n",
    "print(arr_aleatorio_real.size)\n",
    "\n",
    "# Utilizando o reshape para formatar um vetor em uma matriz 2 linhas e n colunas\n",
    "mat = arr_aleatorio_real.reshape(2, -1)\n",
    "\n",
    "print(np.shape(mat))\n",
    "print(mat.size)\n",
    "# print(mat)\n"
   ]
  },
  {
   "cell_type": "code",
   "execution_count": 37,
   "id": "92730b02-a896-43a5-bc8e-c48009cbdbfa",
   "metadata": {},
   "outputs": [
    {
     "name": "stdout",
     "output_type": "stream",
     "text": [
      "1\n",
      "7\n",
      "(2000,)\n",
      "(2000,)\n",
      "(2000,)\n",
      "(1000, 2)\n",
      "(10, 10, 10)\n"
     ]
    }
   ],
   "source": [
    "# Multiplicação de matrizes\n",
    "\n",
    "# Multiplicação com arrays do mesmo tamanho\n",
    "arr_resultado = arr_aleatorio_inteiro*arr_aleatorio_real\n",
    "\n",
    "# Multiplicação com array de diferentes dimensões -ERRADO\n",
    "multiplicador = np.random.randint(1,10,2)\n",
    "\n",
    "arr_resultado2 =[]\n",
    "for multi in multiplicador:\n",
    "    print(multi)\n",
    "    arr_resultado2.append(arr_aleatorio_inteiro*multi)   \n",
    "# print(arr_resultado2)\n",
    "\n",
    "arr_resultado3 = np.concatenate(arr_resultado2)\n",
    "print(arr_resultado3.shape)\n",
    "\n",
    "arr_resultado4 = np.vstack(arr_resultado2)\n",
    "print(arr_resultado3.shape)\n",
    "\n",
    "arr_resultado5 = np.hstack(arr_resultado2)\n",
    "print(arr_resultado5.shape)\n",
    "\n",
    "arr_resultado6 = arr_resultado4.transpose()\n",
    "print(arr_resultado6.shape)\n",
    "\n",
    "arr_resultado7 = np.random.rand(10,10,10)\n",
    "print(arr_resultado7.shape)"
   ]
  },
  {
   "cell_type": "code",
   "execution_count": 40,
   "id": "6203ab00-fb4e-495f-b67b-ff6d4a371a7d",
   "metadata": {},
   "outputs": [
    {
     "data": {
      "text/plain": [
       "array([[0.6620786 , 0.8524642 ],\n",
       "       [0.42137064, 0.5639736 ]])"
      ]
     },
     "execution_count": 40,
     "metadata": {},
     "output_type": "execute_result"
    }
   ],
   "source": [
    "# -------------------acessando valores da matriz----------------------------\n",
    "# considerando que arr_resultado7 é uma matriz de temperatura com as dimensões [lat,lon,tempo],\n",
    "#determine a temoeratura para o tempo igual a 1 em todas as latitudes e longitudes\n",
    "arr_resultado7[:,:,0]\n",
    "\n",
    "# para todas as longitudes e primeira latitude e primeiro tempo\n",
    "arr_resultado7[0,:,0]\n",
    "\n",
    "# todas as latitudes, primeira longitude e último tempo\n",
    "arr_resultado7[:,0,-1]\n",
    "np.shape(arr_resultado7)[2]\n",
    "arr_resultado7[:,0,np.shape(arr_resultado7)[2]-1]\n",
    "\n",
    "# para um ponto lat lon no espaço e todo tempo\n",
    "arr_resultado7[2,2,:]\n",
    "\n",
    "# uma região no espaço\n",
    "arr_resultado7[2:4,4:6,1]\n",
    "\n"
   ]
  },
  {
   "cell_type": "code",
   "execution_count": 54,
   "id": "faa56f42-c07d-4ed5-b5e0-868644ec4f73",
   "metadata": {},
   "outputs": [
    {
     "name": "stdout",
     "output_type": "stream",
     "text": [
      "0.00022617525503210167\n"
     ]
    }
   ],
   "source": [
    "# Estatísticas com numpy\n",
    "\n",
    "# Mínimo considerando todas as dimensões\n",
    "min_absoluto = arr_resultado7.min()\n",
    "#print(min_absoluto)\n",
    "\n",
    "# Mínimo para cada ponto (lat,lon) considerando todos os tempos (axis=2)\n",
    "min_latlon = arr_resultado7.min(axis=2)\n",
    "min_latlon = np.min(arr_resultado7,axis=2)\n",
    "#print(min_latlon)\n",
    "\n",
    "# Atribuindo um valor NaN (célula vazia, erro de medição) dentro da matriz em algum lugar\n",
    "arr_resultado7[2,3,1] = np.nan\n",
    "#print(arr_resultado7)\n",
    "\n",
    "# Mínimo com nan\n",
    "print(np.nanmin(arr_resultado7))"
   ]
  },
  {
   "cell_type": "code",
   "execution_count": 57,
   "id": "f53c83a8-7669-4d28-9d79-02c70595bb50",
   "metadata": {},
   "outputs": [],
   "source": [
    "# Atribuindo um valor NaN (célula vazia, erro de medição) dentro da matriz em algum lugar\n",
    "arr_resultado7[:,:,1] = np.nan\n",
    "#print(arr_resultado7)"
   ]
  },
  {
   "cell_type": "markdown",
   "id": "5ab28437-8a9e-485e-8b56-822b086120e7",
   "metadata": {},
   "source": [
    "## Pandas\n",
    "\n",
    "Utilizaremos os dados do site https://hoinaski.prof.ufsc.br/files/ \n",
    "RQar - MQar escolher um poluente para analisar (RQar_2025/MQar/MP25/*)\n",
    "\n",
    "Arquivo do tipo .csv"
   ]
  },
  {
   "cell_type": "code",
   "execution_count": 59,
   "id": "273b694b-a5b6-42a6-84e4-c6a45c88170e",
   "metadata": {},
   "outputs": [],
   "source": [
    "# Importando o pandas\n",
    "import pandas as pd\n",
    "\n",
    "\n",
    "\n",
    "# Pré-visualização\n",
    "df.head()\n"
   ]
  },
  {
   "cell_type": "code",
   "execution_count": null,
   "id": "e15adeab-5597-4cde-b4f4-83201894e66d",
   "metadata": {},
   "outputs": [],
   "source": [
    "# Indexação com pandas\n",
    "\n",
    "# Todas as linhas e segunda coluna\n",
    "df.iloc[:,1]\n",
    "\n",
    "# Todas as colunas e primeira linha\n",
    "df.iloc[0,:]\n",
    "\n",
    "# Usando loc\n",
    "df.loc[:,'ANO']\n",
    "\n",
    "# Usando apenas o colchete\n",
    "df['ANO']\n",
    "\n",
    "# Extrair nome das colunas\n",
    "df.columns\n",
    "\n",
    "# Acessando o valor da terceira coluna\n",
    "df.loc[:,df.columns[2]]\n",
    "\n"
   ]
  },
  {
   "cell_type": "code",
   "execution_count": null,
   "id": "97714b92-42ea-4082-af68-a55ba58c1f64",
   "metadata": {},
   "outputs": [],
   "source": [
    "# Inserindo um valor\n",
    "df.loc[1,'VALOR'] = 0\n",
    "print(df['VALOR'])\n"
   ]
  },
  {
   "cell_type": "code",
   "execution_count": null,
   "id": "2010906c-ee36-4577-bb50-7ecf597fb371",
   "metadata": {},
   "outputs": [],
   "source": [
    "# Substituindo valores ruins\n",
    "df.loc[df['VALOR']<0, 'VALOR'] = np.nan\n",
    "df['VALOR']\n"
   ]
  },
  {
   "cell_type": "code",
   "execution_count": null,
   "id": "2104402f-3bfd-4e06-8cf1-1e9cd17f70cc",
   "metadata": {},
   "outputs": [],
   "source": [
    "# Estatística com pandas\n",
    "\n",
    "df.describe()"
   ]
  },
  {
   "cell_type": "code",
   "execution_count": null,
   "id": "95478f9b-e854-4a04-9c3b-86222cf27176",
   "metadata": {},
   "outputs": [],
   "source": [
    "print(df['VALOR'].mean())"
   ]
  },
  {
   "cell_type": "code",
   "execution_count": null,
   "id": "a6d12b78-7ac5-4929-9e97-ce756b1212bf",
   "metadata": {},
   "outputs": [],
   "source": [
    "# Qual o valor que são 1% maiores, quando este testefor verdadeiro, na coluna 'VALOR', coloque nan\n",
    "df.loc[df['VALOR']>np.nanpercentile(df['VALOR'],99),'VALOR'] = np.nan\n",
    "df.describe()"
   ]
  },
  {
   "cell_type": "code",
   "execution_count": 60,
   "id": "c8d2f6e2-e632-4b94-aa4e-c2befbf7929c",
   "metadata": {},
   "outputs": [],
   "source": [
    "# Plotagem \n",
    "import matplotlib.pyplot as plt\n",
    "\n",
    "fig, ax = plt.subplots()\n",
    "df['VALOR'].plot(ax=ax,linewidth = 0.1)"
   ]
  },
  {
   "cell_type": "code",
   "execution_count": null,
   "id": "0d7cdff0-bf1f-499c-8522-7d1d10a0daac",
   "metadata": {},
   "outputs": [],
   "source": [
    "fig, ax = plt.subplots(2)\n",
    "df['VALOR'].plot(ax=ax[0],linewidth = 0.1)\n",
    "df['VALOR'].hist(ax=ax[1])\n",
    "\n",
    "fig, ax = plt.subplots(2)\n",
    "df['VALOR'].plot(ax=ax[0],linewidth = 0.1)\n",
    "ax.bloxpot(df.loc[~np.isnan(df['VALOR']),'VALOR'])"
   ]
  },
  {
   "cell_type": "code",
   "execution_count": null,
   "id": "e99aa981-b757-4b8e-9974-43487b8af661",
   "metadata": {},
   "outputs": [],
   "source": [
    "# Operações com datetime\n",
    "\n",
    "df['DATETIME'] = pd.to_datetime(df['DATETIME'])\n",
    "Ddf['DATETIME']\n"
   ]
  },
  {
   "cell_type": "code",
   "execution_count": null,
   "id": "fb75affa-af9d-412c-92c3-89f2c711ca54",
   "metadata": {},
   "outputs": [],
   "source": [
    "fig, ax = plt.subplot()\n",
    "ax.plot(df.DATETIME,df ['VALOR'])\n"
   ]
  },
  {
   "cell_type": "code",
   "execution_count": null,
   "id": "167e5634-2bef-419a-8e5e-7dfd179d3159",
   "metadata": {},
   "outputs": [],
   "source": [
    "# Criando um vetor datetim a partir de colunas, ANO, MES, DIA, HORA\n",
    "\n",
    "data = {'year': df.ANO,\n",
    "        'month': df.MES,\n",
    "        'day': df.DIA,\n",
    "        'hour': df.HORA}\n",
    "df_datetime = pd.Dataframe(data)\n",
    "\n",
    "df['datetime_column'] = pd.to_datetime(df[['ANO','MES', 'DIA', 'HORA']])"
   ]
  },
  {
   "cell_type": "code",
   "execution_count": null,
   "id": "76c6b15b-e61b-4f27-9429-17fdb5cd234c",
   "metadata": {},
   "outputs": [],
   "source": [
    "df[['ANO', 'MES', 'VALOR']].groupby(['ANO', 'MES']).mean().plot"
   ]
  },
  {
   "cell_type": "code",
   "execution_count": null,
   "id": "8c2e0026-83d5-4120-8cf9-97afcd4aa7c3",
   "metadata": {},
   "outputs": [],
   "source": [
    "# Lendo outro arquivo\n",
    "df2 = pd.read_csv(r\"\"C:\\Users\\seren\\Downloads\\RJ0020RA017.csv\"\")\n",
    "df2['DATETIME'] = pd.to_datetime(df2['DATETIME'])\n",
    "\n",
    "fig, ax = plt.subplots()\n",
    "ax.oplot(df.DATETIME, df.VALOR, linewidth = 0.1)\n",
    "ax.oplot(df2.DATETIME, df2.VALOR, linewidth = 0.1)\n",
    "\n",
    "\n",
    "         \n"
   ]
  },
  {
   "cell_type": "code",
   "execution_count": null,
   "id": "7690dab4-0bcb-489b-8c46-4659b07bae89",
   "metadata": {},
   "outputs": [],
   "source": [
    "# Automatizando\n",
    "import os\n",
    "files = os.listdir(r\"\")\n",
    "files = [fname for fname in files if fname.endswith('.csv')]\n",
    "files\n",
    "\n",
    "\n"
   ]
  },
  {
   "cell_type": "code",
   "execution_count": null,
   "id": "cb8203c0-8854-4722-9dd4-370298be94be",
   "metadata": {},
   "outputs": [],
   "source": [
    "for file in files:\n",
    "    print(file)\n",
    "    df = pd.read_csv(r\"\"+'/'+file)\n",
    "    df2['DATETIME'] = pd.to_datetime(df2['DATETIME'])\n",
    "    fig, ax = plt.subplots()\n",
    "    ax.oplot(df.DATETIME, df.VALOR, linewidth = 0.1)\n",
    "   "
   ]
  }
 ],
 "metadata": {
  "kernelspec": {
   "display_name": "Python 3 (ipykernel)",
   "language": "python",
   "name": "python3"
  },
  "language_info": {
   "codemirror_mode": {
    "name": "ipython",
    "version": 3
   },
   "file_extension": ".py",
   "mimetype": "text/x-python",
   "name": "python",
   "nbconvert_exporter": "python",
   "pygments_lexer": "ipython3",
   "version": "3.13.7"
  }
 },
 "nbformat": 4,
 "nbformat_minor": 5
}
